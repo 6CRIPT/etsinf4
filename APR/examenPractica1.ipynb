{
  "cells": [
    {
      "cell_type": "markdown",
      "metadata": {
        "id": "4HUzix6yWj1K"
      },
      "source": [
        "# Examen de laboratorio de APR 2023/24"
      ]
    },
    {
      "cell_type": "markdown",
      "metadata": {
        "id": "bfdaSiqvWj1O"
      },
      "source": [
        "## Preliminares\n",
        "\n",
        "Estimación del error de regresión logística en una tarea de openml:"
      ]
    },
    {
      "cell_type": "code",
      "execution_count": 4,
      "metadata": {
        "colab": {
          "base_uri": "https://localhost:8080/"
        },
        "id": "sA5xvdRAWj1O",
        "outputId": "7a6faec2-c361-4f94-8662-719a27678f96"
      },
      "outputs": [
        {
          "output_type": "stream",
          "name": "stdout",
          "text": [
            "Data id: 6  N: 16000  D: 16  C: 26  Accuracy: 76.3%\n"
          ]
        }
      ],
      "source": [
        "import warnings; warnings.filterwarnings(\"ignore\"); import numpy as np\n",
        "from sklearn.datasets import fetch_openml\n",
        "from sklearn.preprocessing import LabelEncoder\n",
        "from sklearn.model_selection import train_test_split\n",
        "from sklearn.linear_model import LogisticRegression\n",
        "from sklearn.metrics import accuracy_score\n",
        "\n",
        "data_id = 6; X, y = fetch_openml(data_id=data_id, return_X_y=True, as_frame=False)\n",
        "\n",
        "mask = ~np.isnan(X).any(axis=1); X = X[mask, :]; y = y[mask] #datos perdidos\n",
        "\n",
        "y = LabelEncoder().fit_transform(y); C = len(np.unique(y)) #codificar\n",
        "\n",
        "X_train, X_test, y_train, y_test = train_test_split(X, y, test_size=0.2, shuffle=True, random_state=23) #particion\n",
        "\n",
        "clf = LogisticRegression(random_state=23).fit(X_train, y_train)\n",
        "\n",
        "N, D = X_train.shape; acc = accuracy_score(y_test, clf.predict(X_test))\n",
        "\n",
        "print(f'Data id: {data_id}  N: {N}  D: {D}  C: {C}  Accuracy: {acc:.1%}')"
      ]
    },
    {
      "cell_type": "code",
      "source": [
        "y_test.shape"
      ],
      "metadata": {
        "colab": {
          "base_uri": "https://localhost:8080/"
        },
        "id": "wQhzg-cucFvY",
        "outputId": "c4e2ea1c-1793-4e02-b8b9-b4b867e3c574"
      },
      "execution_count": 5,
      "outputs": [
        {
          "output_type": "execute_result",
          "data": {
            "text/plain": [
              "(4000,)"
            ]
          },
          "metadata": {},
          "execution_count": 5
        }
      ]
    },
    {
      "cell_type": "markdown",
      "metadata": {
        "id": "wYWZ8vGi2t4L"
      },
      "source": [
        "## Ejercicio\n",
        "\n",
        "Realiza experimentos con el fin de hallar una red de error mínimo en la tarea anterior, usando la misma partición de los datos."
      ]
    },
    {
      "cell_type": "code",
      "source": [
        "from tensorflow import keras\n",
        "from keras import Sequential\n",
        "from keras.optimizers import SGD,Adam,Adagrad\n",
        "from keras.layers import Dense, Input, Dropout, BatchNormalization\n",
        "from keras.callbacks import ReduceLROnPlateau\n",
        "\n",
        "batch_size = 128\n",
        "epochs = 30\n",
        "lr = 0.001\n",
        "num_classes = 26\n",
        "\n",
        "model = Sequential()\n",
        "model.add(Input(16))\n",
        "model.add(Dense(2556, activation='relu'))\n",
        "model.add(Dense(1024, activation='relu'))\n",
        "model.add(Dense(num_classes, activation = 'softmax'))\n",
        "\n",
        "opt = SGD(learning_rate = lr, momentum = 0.9)\n",
        "model.compile(loss = 'categorical_crossentropy',\n",
        "              optimizer = opt,\n",
        "              metrics = ['accuracy']\n",
        "              )\n",
        "#reduce_lr = ReduceLROnPlateau(monitor='val_loss', factor=0.2,patience=3, min_lr=0.0001)\n",
        "y_train = keras.utils.to_categorical(y_train, 26)\n",
        "y_test = keras.utils.to_categorical(y_test, 26)\n",
        "\n",
        "model.fit(X_train, y_train,\n",
        "          batch_size = batch_size,\n",
        "          epochs = epochs,\n",
        "          verbose = 1,\n",
        "          #callbacks = [reduce_lr]\n",
        "          )\n",
        "score = model.evaluate(X_test, y_test, verbose=0)\n",
        "print('Test loss:', score[0])\n",
        "print('Test accuracy:', score[1])"
      ],
      "metadata": {
        "colab": {
          "base_uri": "https://localhost:8080/"
        },
        "id": "vuyxGWsMXIxz",
        "outputId": "a1378c55-4478-4c92-e13f-340fcc3c1d52"
      },
      "execution_count": 6,
      "outputs": [
        {
          "output_type": "stream",
          "name": "stdout",
          "text": [
            "Epoch 1/30\n",
            "125/125 [==============================] - 1s 5ms/step - loss: 2.5303 - accuracy: 0.3774\n",
            "Epoch 2/30\n",
            "125/125 [==============================] - 0s 3ms/step - loss: 1.6835 - accuracy: 0.6044\n",
            "Epoch 3/30\n",
            "125/125 [==============================] - 0s 4ms/step - loss: 1.3593 - accuracy: 0.6707\n",
            "Epoch 4/30\n",
            "125/125 [==============================] - 0s 4ms/step - loss: 1.1919 - accuracy: 0.7061\n",
            "Epoch 5/30\n",
            "125/125 [==============================] - 0s 4ms/step - loss: 1.0941 - accuracy: 0.7239\n",
            "Epoch 6/30\n",
            "125/125 [==============================] - 0s 3ms/step - loss: 1.0249 - accuracy: 0.7360\n",
            "Epoch 7/30\n",
            "125/125 [==============================] - 0s 3ms/step - loss: 0.9694 - accuracy: 0.7533\n",
            "Epoch 8/30\n",
            "125/125 [==============================] - 0s 3ms/step - loss: 0.9339 - accuracy: 0.7574\n",
            "Epoch 9/30\n",
            "125/125 [==============================] - 0s 3ms/step - loss: 0.8995 - accuracy: 0.7674\n",
            "Epoch 10/30\n",
            "125/125 [==============================] - 0s 4ms/step - loss: 0.8731 - accuracy: 0.7739\n",
            "Epoch 11/30\n",
            "125/125 [==============================] - 0s 3ms/step - loss: 0.8484 - accuracy: 0.7804\n",
            "Epoch 12/30\n",
            "125/125 [==============================] - 0s 4ms/step - loss: 0.8283 - accuracy: 0.7845\n",
            "Epoch 13/30\n",
            "125/125 [==============================] - 0s 3ms/step - loss: 0.8047 - accuracy: 0.7896\n",
            "Epoch 14/30\n",
            "125/125 [==============================] - 0s 4ms/step - loss: 0.7875 - accuracy: 0.7909\n",
            "Epoch 15/30\n",
            "125/125 [==============================] - 0s 3ms/step - loss: 0.7732 - accuracy: 0.7931\n",
            "Epoch 16/30\n",
            "125/125 [==============================] - 0s 3ms/step - loss: 0.7554 - accuracy: 0.7994\n",
            "Epoch 17/30\n",
            "125/125 [==============================] - 0s 4ms/step - loss: 0.7440 - accuracy: 0.7979\n",
            "Epoch 18/30\n",
            "125/125 [==============================] - 0s 3ms/step - loss: 0.7254 - accuracy: 0.8072\n",
            "Epoch 19/30\n",
            "125/125 [==============================] - 0s 4ms/step - loss: 0.7154 - accuracy: 0.8083\n",
            "Epoch 20/30\n",
            "125/125 [==============================] - 1s 4ms/step - loss: 0.7023 - accuracy: 0.8102\n",
            "Epoch 21/30\n",
            "125/125 [==============================] - 1s 5ms/step - loss: 0.6884 - accuracy: 0.8129\n",
            "Epoch 22/30\n",
            "125/125 [==============================] - 1s 4ms/step - loss: 0.6741 - accuracy: 0.8177\n",
            "Epoch 23/30\n",
            "125/125 [==============================] - 1s 4ms/step - loss: 0.6600 - accuracy: 0.8212\n",
            "Epoch 24/30\n",
            "125/125 [==============================] - 1s 5ms/step - loss: 0.6495 - accuracy: 0.8242\n",
            "Epoch 25/30\n",
            "125/125 [==============================] - 1s 5ms/step - loss: 0.6397 - accuracy: 0.8263\n",
            "Epoch 26/30\n",
            "125/125 [==============================] - 1s 5ms/step - loss: 0.6273 - accuracy: 0.8316\n",
            "Epoch 27/30\n",
            "125/125 [==============================] - 0s 4ms/step - loss: 0.6164 - accuracy: 0.8329\n",
            "Epoch 28/30\n",
            "125/125 [==============================] - 0s 4ms/step - loss: 0.6068 - accuracy: 0.8324\n",
            "Epoch 29/30\n",
            "125/125 [==============================] - 0s 4ms/step - loss: 0.5946 - accuracy: 0.8394\n",
            "Epoch 30/30\n",
            "125/125 [==============================] - 0s 4ms/step - loss: 0.5852 - accuracy: 0.8389\n",
            "Test loss: 0.5934472680091858\n",
            "Test accuracy: 0.8305000066757202\n"
          ]
        }
      ]
    },
    {
      "cell_type": "code",
      "source": [],
      "metadata": {
        "id": "H2HTams4YPWE"
      },
      "execution_count": 3,
      "outputs": []
    }
  ],
  "metadata": {
    "accelerator": "GPU",
    "colab": {
      "gpuType": "T4",
      "provenance": []
    },
    "kernelspec": {
      "display_name": "Python 3",
      "name": "python3"
    },
    "language_info": {
      "codemirror_mode": {
        "name": "ipython",
        "version": 3
      },
      "file_extension": ".py",
      "mimetype": "text/x-python",
      "name": "python",
      "nbconvert_exporter": "python",
      "pygments_lexer": "ipython3",
      "version": "3.10.12"
    },
    "orig_nbformat": 4
  },
  "nbformat": 4,
  "nbformat_minor": 0
}